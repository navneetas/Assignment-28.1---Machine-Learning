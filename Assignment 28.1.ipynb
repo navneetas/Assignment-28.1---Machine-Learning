{
 "cells": [
  {
   "cell_type": "code",
   "execution_count": 2,
   "metadata": {},
   "outputs": [],
   "source": [
    "import pandas as pd\n",
    "with open(r'C:\\Users\\navne\\Documents\\Python Scripts\\Data\\nba_2013.csv') as csvfile:\n",
    "    nba = pd.read_csv(csvfile)"
   ]
  },
  {
   "cell_type": "code",
   "execution_count": 3,
   "metadata": {},
   "outputs": [
    {
     "data": {
      "text/html": [
       "<div>\n",
       "<style scoped>\n",
       "    .dataframe tbody tr th:only-of-type {\n",
       "        vertical-align: middle;\n",
       "    }\n",
       "\n",
       "    .dataframe tbody tr th {\n",
       "        vertical-align: top;\n",
       "    }\n",
       "\n",
       "    .dataframe thead th {\n",
       "        text-align: right;\n",
       "    }\n",
       "</style>\n",
       "<table border=\"1\" class=\"dataframe\">\n",
       "  <thead>\n",
       "    <tr style=\"text-align: right;\">\n",
       "      <th></th>\n",
       "      <th>player</th>\n",
       "      <th>pos</th>\n",
       "      <th>age</th>\n",
       "      <th>bref_team_id</th>\n",
       "      <th>g</th>\n",
       "      <th>gs</th>\n",
       "      <th>mp</th>\n",
       "      <th>fg</th>\n",
       "      <th>fga</th>\n",
       "      <th>fg.</th>\n",
       "      <th>...</th>\n",
       "      <th>drb</th>\n",
       "      <th>trb</th>\n",
       "      <th>ast</th>\n",
       "      <th>stl</th>\n",
       "      <th>blk</th>\n",
       "      <th>tov</th>\n",
       "      <th>pf</th>\n",
       "      <th>pts</th>\n",
       "      <th>season</th>\n",
       "      <th>season_end</th>\n",
       "    </tr>\n",
       "  </thead>\n",
       "  <tbody>\n",
       "    <tr>\n",
       "      <th>0</th>\n",
       "      <td>Quincy Acy</td>\n",
       "      <td>SF</td>\n",
       "      <td>23</td>\n",
       "      <td>TOT</td>\n",
       "      <td>63</td>\n",
       "      <td>0</td>\n",
       "      <td>847</td>\n",
       "      <td>66</td>\n",
       "      <td>141</td>\n",
       "      <td>0.468</td>\n",
       "      <td>...</td>\n",
       "      <td>144</td>\n",
       "      <td>216</td>\n",
       "      <td>28</td>\n",
       "      <td>23</td>\n",
       "      <td>26</td>\n",
       "      <td>30</td>\n",
       "      <td>122</td>\n",
       "      <td>171</td>\n",
       "      <td>2013-2014</td>\n",
       "      <td>2013</td>\n",
       "    </tr>\n",
       "    <tr>\n",
       "      <th>1</th>\n",
       "      <td>Steven Adams</td>\n",
       "      <td>C</td>\n",
       "      <td>20</td>\n",
       "      <td>OKC</td>\n",
       "      <td>81</td>\n",
       "      <td>20</td>\n",
       "      <td>1197</td>\n",
       "      <td>93</td>\n",
       "      <td>185</td>\n",
       "      <td>0.503</td>\n",
       "      <td>...</td>\n",
       "      <td>190</td>\n",
       "      <td>332</td>\n",
       "      <td>43</td>\n",
       "      <td>40</td>\n",
       "      <td>57</td>\n",
       "      <td>71</td>\n",
       "      <td>203</td>\n",
       "      <td>265</td>\n",
       "      <td>2013-2014</td>\n",
       "      <td>2013</td>\n",
       "    </tr>\n",
       "    <tr>\n",
       "      <th>2</th>\n",
       "      <td>Jeff Adrien</td>\n",
       "      <td>PF</td>\n",
       "      <td>27</td>\n",
       "      <td>TOT</td>\n",
       "      <td>53</td>\n",
       "      <td>12</td>\n",
       "      <td>961</td>\n",
       "      <td>143</td>\n",
       "      <td>275</td>\n",
       "      <td>0.520</td>\n",
       "      <td>...</td>\n",
       "      <td>204</td>\n",
       "      <td>306</td>\n",
       "      <td>38</td>\n",
       "      <td>24</td>\n",
       "      <td>36</td>\n",
       "      <td>39</td>\n",
       "      <td>108</td>\n",
       "      <td>362</td>\n",
       "      <td>2013-2014</td>\n",
       "      <td>2013</td>\n",
       "    </tr>\n",
       "    <tr>\n",
       "      <th>3</th>\n",
       "      <td>Arron Afflalo</td>\n",
       "      <td>SG</td>\n",
       "      <td>28</td>\n",
       "      <td>ORL</td>\n",
       "      <td>73</td>\n",
       "      <td>73</td>\n",
       "      <td>2552</td>\n",
       "      <td>464</td>\n",
       "      <td>1011</td>\n",
       "      <td>0.459</td>\n",
       "      <td>...</td>\n",
       "      <td>230</td>\n",
       "      <td>262</td>\n",
       "      <td>248</td>\n",
       "      <td>35</td>\n",
       "      <td>3</td>\n",
       "      <td>146</td>\n",
       "      <td>136</td>\n",
       "      <td>1330</td>\n",
       "      <td>2013-2014</td>\n",
       "      <td>2013</td>\n",
       "    </tr>\n",
       "    <tr>\n",
       "      <th>4</th>\n",
       "      <td>Alexis Ajinca</td>\n",
       "      <td>C</td>\n",
       "      <td>25</td>\n",
       "      <td>NOP</td>\n",
       "      <td>56</td>\n",
       "      <td>30</td>\n",
       "      <td>951</td>\n",
       "      <td>136</td>\n",
       "      <td>249</td>\n",
       "      <td>0.546</td>\n",
       "      <td>...</td>\n",
       "      <td>183</td>\n",
       "      <td>277</td>\n",
       "      <td>40</td>\n",
       "      <td>23</td>\n",
       "      <td>46</td>\n",
       "      <td>63</td>\n",
       "      <td>187</td>\n",
       "      <td>328</td>\n",
       "      <td>2013-2014</td>\n",
       "      <td>2013</td>\n",
       "    </tr>\n",
       "  </tbody>\n",
       "</table>\n",
       "<p>5 rows × 31 columns</p>\n",
       "</div>"
      ],
      "text/plain": [
       "          player pos  age bref_team_id   g  gs    mp   fg   fga    fg.  \\\n",
       "0     Quincy Acy  SF   23          TOT  63   0   847   66   141  0.468   \n",
       "1   Steven Adams   C   20          OKC  81  20  1197   93   185  0.503   \n",
       "2    Jeff Adrien  PF   27          TOT  53  12   961  143   275  0.520   \n",
       "3  Arron Afflalo  SG   28          ORL  73  73  2552  464  1011  0.459   \n",
       "4  Alexis Ajinca   C   25          NOP  56  30   951  136   249  0.546   \n",
       "\n",
       "      ...      drb  trb  ast  stl  blk  tov   pf   pts     season  season_end  \n",
       "0     ...      144  216   28   23   26   30  122   171  2013-2014        2013  \n",
       "1     ...      190  332   43   40   57   71  203   265  2013-2014        2013  \n",
       "2     ...      204  306   38   24   36   39  108   362  2013-2014        2013  \n",
       "3     ...      230  262  248   35    3  146  136  1330  2013-2014        2013  \n",
       "4     ...      183  277   40   23   46   63  187   328  2013-2014        2013  \n",
       "\n",
       "[5 rows x 31 columns]"
      ]
     },
     "execution_count": 3,
     "metadata": {},
     "output_type": "execute_result"
    }
   ],
   "source": [
    "nba.head()"
   ]
  },
  {
   "cell_type": "code",
   "execution_count": 4,
   "metadata": {},
   "outputs": [
    {
     "data": {
      "text/plain": [
       "Index(['player', 'pos', 'age', 'bref_team_id', 'g', 'gs', 'mp', 'fg', 'fga',\n",
       "       'fg.', 'x3p', 'x3pa', 'x3p.', 'x2p', 'x2pa', 'x2p.', 'efg.', 'ft',\n",
       "       'fta', 'ft.', 'orb', 'drb', 'trb', 'ast', 'stl', 'blk', 'tov', 'pf',\n",
       "       'pts', 'season', 'season_end'],\n",
       "      dtype='object')"
      ]
     },
     "execution_count": 4,
     "metadata": {},
     "output_type": "execute_result"
    }
   ],
   "source": [
    "nba.columns"
   ]
  },
  {
   "cell_type": "code",
   "execution_count": 5,
   "metadata": {},
   "outputs": [
    {
     "data": {
      "text/plain": [
       "player          False\n",
       "pos             False\n",
       "age             False\n",
       "bref_team_id    False\n",
       "g               False\n",
       "gs              False\n",
       "mp              False\n",
       "fg              False\n",
       "fga             False\n",
       "fg.              True\n",
       "x3p             False\n",
       "x3pa            False\n",
       "x3p.             True\n",
       "x2p             False\n",
       "x2pa            False\n",
       "x2p.             True\n",
       "efg.             True\n",
       "ft              False\n",
       "fta             False\n",
       "ft.              True\n",
       "orb             False\n",
       "drb             False\n",
       "trb             False\n",
       "ast             False\n",
       "stl             False\n",
       "blk             False\n",
       "tov             False\n",
       "pf              False\n",
       "pts             False\n",
       "season          False\n",
       "season_end      False\n",
       "dtype: bool"
      ]
     },
     "execution_count": 5,
     "metadata": {},
     "output_type": "execute_result"
    }
   ],
   "source": [
    "nba.isnull().any()"
   ]
  },
  {
   "cell_type": "code",
   "execution_count": 7,
   "metadata": {},
   "outputs": [],
   "source": [
    "nba.fillna(0, inplace=True)"
   ]
  },
  {
   "cell_type": "code",
   "execution_count": 10,
   "metadata": {},
   "outputs": [],
   "source": [
    "import random\n",
    "from numpy.random import permutation\n",
    "import math"
   ]
  },
  {
   "cell_type": "code",
   "execution_count": null,
   "metadata": {},
   "outputs": [],
   "source": [
    "##to generate test and train sets, we will use random sampling. We'll randomly shuffle the index of the nba dataframe, and then pick rows using the randomly shuffled values."
   ]
  },
  {
   "cell_type": "code",
   "execution_count": 11,
   "metadata": {},
   "outputs": [],
   "source": [
    "ran_indices = permutation(nba.index)     # Randomly shuffle the index of nba.\n",
    "\n",
    "# Set a cutoff for how many items we want in the test set (in this case 1/3 of the items)\n",
    "test_cutoff = math.floor(len(nba)/3)"
   ]
  },
  {
   "cell_type": "code",
   "execution_count": 12,
   "metadata": {},
   "outputs": [],
   "source": [
    "# To generate the test set by taking the first 1/3 of the randomly shuffled indices.\n",
    "test = nba.loc[ran_indices[1:test_cutoff]]"
   ]
  },
  {
   "cell_type": "code",
   "execution_count": 13,
   "metadata": {},
   "outputs": [],
   "source": [
    "# Generate the train set with the rest of the data.\n",
    "train = nba.loc[ran_indices[test_cutoff:]]"
   ]
  },
  {
   "cell_type": "code",
   "execution_count": 14,
   "metadata": {},
   "outputs": [],
   "source": [
    "# The columns that we will be making predictions with.\n",
    "\n",
    "X = ['age', 'g', 'gs', 'mp', 'fg', 'fga', 'fg.', 'x3p', 'x3pa', 'x3p.', 'x2p', 'x2pa', 'x2p.', 'efg.', 'ft', 'fta', 'ft.', 'orb', 'drb', 'trb', 'ast', 'stl', 'blk', 'tov', 'pf']\n",
    "# The column that we want to predict.\n",
    "Y = ['pts']"
   ]
  },
  {
   "cell_type": "code",
   "execution_count": 15,
   "metadata": {},
   "outputs": [],
   "source": [
    "#we'll be using the regressor, as we have continuous values to predict on. Sklearn performs the normalization and distance finding automatically, and lets us specify how many neighbors we want to look at.\n",
    "from sklearn.neighbors import KNeighborsRegressor"
   ]
  },
  {
   "cell_type": "code",
   "execution_count": 24,
   "metadata": {},
   "outputs": [],
   "source": [
    "# Create the knn model\n",
    "knn = KNeighborsRegressor(n_neighbors = 5) # Look at the five closest neighbors."
   ]
  },
  {
   "cell_type": "code",
   "execution_count": 25,
   "metadata": {},
   "outputs": [
    {
     "data": {
      "text/plain": [
       "KNeighborsRegressor(algorithm='auto', leaf_size=30, metric='minkowski',\n",
       "          metric_params=None, n_jobs=1, n_neighbors=5, p=2,\n",
       "          weights='uniform')"
      ]
     },
     "execution_count": 25,
     "metadata": {},
     "output_type": "execute_result"
    }
   ],
   "source": [
    "knn"
   ]
  },
  {
   "cell_type": "code",
   "execution_count": 17,
   "metadata": {},
   "outputs": [
    {
     "data": {
      "text/plain": [
       "KNeighborsRegressor(algorithm='auto', leaf_size=30, metric='minkowski',\n",
       "          metric_params=None, n_jobs=1, n_neighbors=5, p=2,\n",
       "          weights='uniform')"
      ]
     },
     "execution_count": 17,
     "metadata": {},
     "output_type": "execute_result"
    }
   ],
   "source": [
    "# Fit the model on the training data.\n",
    "knn.fit(train[X], train[Y])"
   ]
  },
  {
   "cell_type": "code",
   "execution_count": 18,
   "metadata": {},
   "outputs": [],
   "source": [
    "# To Make point predictions on the test set using the fit model.\n",
    "\n",
    "pred = knn.predict(test[X])"
   ]
  },
  {
   "cell_type": "code",
   "execution_count": 19,
   "metadata": {},
   "outputs": [
    {
     "data": {
      "text/plain": [
       "array([[9.9560e+02],\n",
       "       [2.5160e+02],\n",
       "       [3.1900e+02],\n",
       "       [8.2000e+01],\n",
       "       [3.4280e+02],\n",
       "       [3.1780e+02],\n",
       "       [7.8820e+02],\n",
       "       [1.0480e+03],\n",
       "       [1.5040e+02],\n",
       "       [1.2910e+03],\n",
       "       [4.0000e-01],\n",
       "       [2.5880e+02],\n",
       "       [1.5600e+01],\n",
       "       [4.4640e+02],\n",
       "       [3.6380e+02],\n",
       "       [1.0640e+03],\n",
       "       [6.9040e+02],\n",
       "       [9.7440e+02],\n",
       "       [8.3540e+02],\n",
       "       [8.0000e-01],\n",
       "       [8.3800e+01],\n",
       "       [1.3222e+03],\n",
       "       [1.9700e+02],\n",
       "       [9.3840e+02],\n",
       "       [4.1840e+02],\n",
       "       [6.1700e+02],\n",
       "       [9.3080e+02],\n",
       "       [6.7760e+02],\n",
       "       [1.1468e+03],\n",
       "       [9.6000e+00],\n",
       "       [3.7080e+02],\n",
       "       [2.0880e+02],\n",
       "       [7.8800e+01],\n",
       "       [3.0800e+01],\n",
       "       [3.7700e+02],\n",
       "       [1.5620e+02],\n",
       "       [3.7080e+02],\n",
       "       [9.3280e+02],\n",
       "       [1.8000e+02],\n",
       "       [2.3800e+01],\n",
       "       [6.5440e+02],\n",
       "       [1.8760e+03],\n",
       "       [3.4640e+02],\n",
       "       [1.3158e+03],\n",
       "       [1.7940e+02],\n",
       "       [8.0800e+01],\n",
       "       [5.8120e+02],\n",
       "       [4.6920e+02],\n",
       "       [2.9380e+02],\n",
       "       [1.1074e+03],\n",
       "       [8.0000e-01],\n",
       "       [6.6080e+02],\n",
       "       [3.3520e+02],\n",
       "       [4.6840e+02],\n",
       "       [1.3516e+03],\n",
       "       [3.9500e+02],\n",
       "       [1.2120e+02],\n",
       "       [5.2660e+02],\n",
       "       [1.1428e+03],\n",
       "       [4.3660e+02],\n",
       "       [1.4480e+02],\n",
       "       [8.6000e+00],\n",
       "       [7.6080e+02],\n",
       "       [9.8800e+02],\n",
       "       [1.6560e+02],\n",
       "       [1.1056e+03],\n",
       "       [7.2400e+01],\n",
       "       [1.1254e+03],\n",
       "       [6.7160e+02],\n",
       "       [2.4800e+01],\n",
       "       [1.0180e+03],\n",
       "       [3.1400e+02],\n",
       "       [6.3960e+02],\n",
       "       [1.8760e+03],\n",
       "       [1.9000e+01],\n",
       "       [3.1040e+02],\n",
       "       [5.3940e+02],\n",
       "       [2.8940e+02],\n",
       "       [2.1560e+02],\n",
       "       [2.3680e+02],\n",
       "       [8.2940e+02],\n",
       "       [8.8860e+02],\n",
       "       [2.8540e+02],\n",
       "       [6.7960e+02],\n",
       "       [4.7060e+02],\n",
       "       [1.2132e+03],\n",
       "       [4.6740e+02],\n",
       "       [5.1580e+02],\n",
       "       [1.7544e+03],\n",
       "       [2.4260e+02],\n",
       "       [1.1600e+01],\n",
       "       [1.5400e+02],\n",
       "       [1.9740e+02],\n",
       "       [1.1166e+03],\n",
       "       [1.8920e+02],\n",
       "       [9.0060e+02],\n",
       "       [4.1320e+02],\n",
       "       [5.3940e+02],\n",
       "       [3.2400e+02],\n",
       "       [8.2400e+01],\n",
       "       [8.2320e+02],\n",
       "       [8.0080e+02],\n",
       "       [6.0040e+02],\n",
       "       [8.0900e+02],\n",
       "       [1.9600e+01],\n",
       "       [3.3400e+01],\n",
       "       [3.4200e+01],\n",
       "       [4.4720e+02],\n",
       "       [2.6340e+02],\n",
       "       [1.1738e+03],\n",
       "       [3.4400e+01],\n",
       "       [5.9380e+02],\n",
       "       [4.5600e+01],\n",
       "       [9.5700e+02],\n",
       "       [2.1340e+02],\n",
       "       [9.4000e+01],\n",
       "       [1.5640e+02],\n",
       "       [5.8820e+02],\n",
       "       [1.5014e+03],\n",
       "       [8.6000e+00],\n",
       "       [1.0980e+02],\n",
       "       [1.0722e+03],\n",
       "       [1.9340e+02],\n",
       "       [6.0040e+02],\n",
       "       [7.8800e+01],\n",
       "       [7.2660e+02],\n",
       "       [6.4480e+02],\n",
       "       [3.4820e+02],\n",
       "       [7.4000e+01],\n",
       "       [7.7140e+02],\n",
       "       [3.5560e+02],\n",
       "       [3.6060e+02],\n",
       "       [1.4554e+03],\n",
       "       [2.1200e+01],\n",
       "       [9.8720e+02],\n",
       "       [1.7400e+01],\n",
       "       [9.5600e+01],\n",
       "       [8.8500e+02],\n",
       "       [1.1600e+01],\n",
       "       [8.0960e+02],\n",
       "       [1.2360e+03],\n",
       "       [9.6020e+02],\n",
       "       [1.0406e+03],\n",
       "       [1.7400e+02],\n",
       "       [3.8800e+01],\n",
       "       [4.7140e+02],\n",
       "       [6.4800e+01],\n",
       "       [9.5720e+02],\n",
       "       [1.3632e+03],\n",
       "       [1.2740e+03],\n",
       "       [1.1140e+03],\n",
       "       [1.1028e+03],\n",
       "       [9.0880e+02],\n",
       "       [5.9660e+02],\n",
       "       [4.3960e+02],\n",
       "       [3.7800e+01],\n",
       "       [7.6700e+02],\n",
       "       [7.1440e+02],\n",
       "       [0.0000e+00]])"
      ]
     },
     "execution_count": 19,
     "metadata": {},
     "output_type": "execute_result"
    }
   ],
   "source": [
    "pred"
   ]
  },
  {
   "cell_type": "markdown",
   "metadata": {},
   "source": [
    "Computing error\n",
    "We can compute the error involved with our predictions using mean squared error."
   ]
  },
  {
   "cell_type": "code",
   "execution_count": 20,
   "metadata": {},
   "outputs": [],
   "source": [
    "# Get the actual values for the test set.\n",
    "actual = test[Y]\n",
    "\n",
    "# Compute the mean squared error of our predictions.\n",
    "MSE = (((pred-actual) **2).sum()) / len(pred)"
   ]
  },
  {
   "cell_type": "code",
   "execution_count": 22,
   "metadata": {},
   "outputs": [
    {
     "name": "stdout",
     "output_type": "stream",
     "text": [
      "pts    8943.383899\n",
      "dtype: float64\n"
     ]
    }
   ],
   "source": [
    "print(MSE)"
   ]
  },
  {
   "cell_type": "code",
   "execution_count": null,
   "metadata": {},
   "outputs": [],
   "source": []
  }
 ],
 "metadata": {
  "kernelspec": {
   "display_name": "Python 3",
   "language": "python",
   "name": "python3"
  },
  "language_info": {
   "codemirror_mode": {
    "name": "ipython",
    "version": 3
   },
   "file_extension": ".py",
   "mimetype": "text/x-python",
   "name": "python",
   "nbconvert_exporter": "python",
   "pygments_lexer": "ipython3",
   "version": "3.6.4"
  }
 },
 "nbformat": 4,
 "nbformat_minor": 2
}
